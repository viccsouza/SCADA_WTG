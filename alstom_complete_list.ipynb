{
 "cells": [
  {
   "cell_type": "code",
   "execution_count": null,
   "metadata": {},
   "outputs": [],
   "source": [
    "import pandas as pd\n",
    "import datetime as dt\n",
    "from dateutil.relativedelta import relativedelta"
   ]
  },
  {
   "cell_type": "code",
   "execution_count": 50,
   "metadata": {},
   "outputs": [],
   "source": [
    "# Importing and defining a variable for each spreadsheet \n",
    "\n",
    "folder_name = '2021_08_ago'\n",
    "\n",
    "df1 = pd.read_excel(folder_name + \"\\Alstom (1).xlsx\")\n",
    "df2 = pd.read_excel(folder_name + \"\\Alstom (2).xlsx\")\n",
    "df3 = pd.read_excel(folder_name + \"\\Alstom (3).xlsx\")\n",
    "df4 = pd.read_excel(folder_name + \"\\Alstom (4).xlsx\")\n",
    "df5 = pd.read_excel(folder_name + \"\\Alstom (5).xlsx\")\n",
    "df6 = pd.read_excel(folder_name + \"\\Alstom (6).xlsx\")\n",
    "df7 = pd.read_excel(folder_name + \"\\Alstom (7).xlsx\")\n",
    "df8 = pd.read_excel(folder_name + \"\\Alstom (8).xlsx\")\n",
    "df9 = pd.read_excel(folder_name + \"\\Alstom (9).xlsx\")\n",
    "df10 = pd.read_excel(folder_name + \"\\Alstom (10).xlsx\")\n",
    "df11 = pd.read_excel(folder_name + \"\\Alstom (11).xlsx\")\n",
    "df12 = pd.read_excel(folder_name + \"\\Alstom (12).xlsx\")\n",
    "df13 = pd.read_excel(folder_name + \"\\Alstom (13).xlsx\")\n",
    "df14 = pd.read_excel(folder_name + \"\\Alstom (14).xlsx\")\n",
    "# df15 = pd.read_excel(folder_name + \"\\Alstom (15).xlsx\")"
   ]
  },
  {
   "cell_type": "code",
   "execution_count": 3,
   "metadata": {},
   "outputs": [
    {
     "name": "stdout",
     "output_type": "stream",
     "text": [
      "10232 is the total number of lines in this spreadsheet\n"
     ]
    }
   ],
   "source": [
    "# Appending all spreadsheets into one and counting the number of rows  \n",
    "\n",
    "df = df1.append(df2, ignore_index = True)\n",
    "df = df.append(df3, ignore_index = True)\n",
    "df = df.append(df4, ignore_index = True)\n",
    "df = df.append(df5, ignore_index = True)\n",
    "df = df.append(df6, ignore_index = True)\n",
    "df = df.append(df7, ignore_index = True)\n",
    "df = df.append(df8, ignore_index = True)\n",
    "df = df.append(df9, ignore_index = True)\n",
    "df = df.append(df10, ignore_index = True)\n",
    "df = df.append(df11, ignore_index = True)\n",
    "df = df.append(df12, ignore_index = True)\n",
    "df = df.append(df13, ignore_index = True)\n",
    "df = df.append(df14, ignore_index = True)\n",
    "# df = df.append(df15, ignore_index = True)\n",
    "print('%s is the total number of lines in this spreadsheet' %len(df))"
   ]
  },
  {
   "cell_type": "code",
   "execution_count": 4,
   "metadata": {},
   "outputs": [],
   "source": [
    "##Changing columns names.\n",
    "\n",
    "df.rename(columns = {\"respDescription\" : \"Responsability\",\n",
    "                     \"Power Plant\" : \"Power_plant\", \n",
    "                     \"Element\" : \"WTG\",\n",
    "                     \"Downtime\" : \"Downtime_type\",\n",
    "                     \"Time from\" : \"Time_from\",\n",
    "                     \"Time to\" : \"Time_to\"\n",
    "                    }, inplace = True)"
   ]
  },
  {
   "cell_type": "code",
   "execution_count": 6,
   "metadata": {},
   "outputs": [],
   "source": [
    "# Adjusting the values in each column for the right data type.\n",
    "\n",
    "df[\"Responsability\"] = df[\"Responsability\"].astype(\"category\")\n",
    "df[\"Power_plant\"] = df[\"Power_plant\"].astype(\"category\")\n",
    "df[\"WTG\"] = df[\"WTG\"].astype(\"category\")\n",
    "df[\"Downtime_type\"] = df[\"Downtime_type\"].astype(\"category\")\n",
    "df[\"Time_from\"] = pd.to_datetime(df[\"Time_from\"])\n",
    "df[\"Time_to\"] = pd.to_datetime(df[\"Time_to\"])"
   ]
  },
  {
   "cell_type": "code",
   "execution_count": 14,
   "metadata": {
    "collapsed": true
   },
   "outputs": [
    {
     "data": {
      "text/plain": [
       "Timestamp('2021-09-01 00:00:00')"
      ]
     },
     "execution_count": 14,
     "metadata": {},
     "output_type": "execute_result"
    }
   ],
   "source": [
    "## changing time before the working month to the first day/hour/second of \n",
    "## the month to study only the analysed month.\n",
    "\n",
    "time = dt.datetime.now()\n",
    "time_to = time.replace( day=1, hour=0, minute=0, second=0, microsecond=0)\n",
    "time_from = time_to - relativedelta(months=1)\n",
    "# print('time from: %s' %time_from)\n",
    "# print('time to  : %s' %time_to)\n",
    "\n",
    "\n",
    "mask = df[\"Time_from\"]  <= time_from\n",
    "df.loc[mask, \"Time_from\"] = time_from\n",
    "# df[\"Time_from\"].min()\n",
    "\n",
    "\n",
    "## changing time before the working month to the first day/hour/second of \n",
    "## the month to study only the analysed month.\n",
    "\n",
    "mask2 = df[\"Time_to\"]  >= time_to\n",
    "df.loc[mask2, \"Time_to\"] = time_to\n",
    "# df[\"Time_to\"].max()"
   ]
  },
  {
   "cell_type": "code",
   "execution_count": 16,
   "metadata": {},
   "outputs": [],
   "source": [
    "## Converting timedelta \"Duration\" column to a float number.\n",
    "\n",
    "df[\"Duration\"] = df[\"Time_to\"] - df[\"Time_from\"]\n",
    "mask3 = df[\"Duration\"]\n",
    "df[\"Duration\"] = mask3.dt.total_seconds()/3600"
   ]
  },
  {
   "cell_type": "code",
   "execution_count": 17,
   "metadata": {},
   "outputs": [],
   "source": [
    "## separating the alarm code column into categories: alarm number, code and description.\n",
    "\n",
    "df[[\"Alarm_number\", \"Alarm_code\",\"Alarm_descrition\"]] = df.Alarm.str.split(\" - \", expand = True)\n",
    "df.drop(columns = \"Alarm\", inplace = True)"
   ]
  },
  {
   "cell_type": "code",
   "execution_count": 18,
   "metadata": {},
   "outputs": [],
   "source": [
    "## filling na with corrective maintenance code and setting it as integer.\n",
    "\n",
    "df[\"Alarm_number\"] = df[\"Alarm_number\"].fillna(\"40\")\n",
    "df[\"Alarm_number\"] = df[\"Alarm_number\"].astype(\"int\")"
   ]
  },
  {
   "cell_type": "code",
   "execution_count": 23,
   "metadata": {},
   "outputs": [],
   "source": [
    "## opening up the Alstom Codes spreadsheet as reference for system and alarm correlation.\n",
    "\n",
    "alstom_codes = pd.read_excel(\"alstom_codes.xlsx\")\n",
    "# alstom_codes.info()"
   ]
  },
  {
   "cell_type": "code",
   "execution_count": 33,
   "metadata": {},
   "outputs": [],
   "source": [
    "## Joining system by alarms in the df.\n",
    "\n",
    "df = df.merge(alstom_codes, how = \"inner\",  left_on = \"Alarm_number\", right_on = \"number\" )\n",
    "df.drop(columns = \"number\", inplace = True)"
   ]
  },
  {
   "cell_type": "code",
   "execution_count": 35,
   "metadata": {
    "collapsed": true
   },
   "outputs": [
    {
     "name": "stdout",
     "output_type": "stream",
     "text": [
      "<class 'pandas.core.frame.DataFrame'>\n",
      "RangeIndex: 15 entries, 0 to 14\n",
      "Data columns (total 2 columns):\n",
      " #   Column        Non-Null Count  Dtype \n",
      "---  ------        --------------  ----- \n",
      " 0   Complex       15 non-null     object\n",
      " 1   Power_plants  15 non-null     object\n",
      "dtypes: object(2)\n",
      "memory usage: 368.0+ bytes\n"
     ]
    }
   ],
   "source": [
    "## Joining System stops by alarms to the table\n",
    "\n",
    "alstom_powerplant = pd.read_excel(\"alstom_powerplant.xlsx\")\n",
    "# alstom_powerplant.info()\n",
    "\n",
    "df = df.merge(alstom_powerplant, how = \"left\",  left_on = \"Power_plant\", right_on = \"Power_plants\")\n",
    "df.drop(columns = \"Power_plants\", inplace = True)"
   ]
  },
  {
   "cell_type": "code",
   "execution_count": 37,
   "metadata": {},
   "outputs": [],
   "source": [
    "## adjusting the data types of some columns.\n",
    "\n",
    "df[\"Power_plant\"] = df[\"Power_plant\"].astype(\"category\")\n",
    "df[\"system\"] = df[\"system\"].astype(\"category\")\n",
    "df[\"Complex\"] = df[\"Complex\"].astype(\"category\")\n",
    "df[\"Status\"] = df[\"Status\"].astype(\"category\")"
   ]
  },
  {
   "cell_type": "code",
   "execution_count": 39,
   "metadata": {},
   "outputs": [],
   "source": [
    "## organizing the df to the new index.\n",
    "\n",
    "df.sort_values([\"Power_plant\",\"WTG\",\"Time_from\"], ascending=[True, True, True], inplace=True)\n",
    "df.reset_index(drop = True, inplace = True)"
   ]
  },
  {
   "cell_type": "code",
   "execution_count": 46,
   "metadata": {},
   "outputs": [],
   "source": [
    "## creating the output file with the new dataframe.\n",
    "\n",
    "file_name = 'complete_list_alston_' + time_from.strftime(\"%m\") + '.xlsx'\n",
    "excel_file = pd.ExcelWriter(file_name)\n",
    "df.to_excel(excel_file, sheet_name = \"Alstom\", index=False, freeze_panes = (1,0))\n",
    "excel_file.save()"
   ]
  }
 ],
 "metadata": {
  "kernelspec": {
   "display_name": "Python 3",
   "language": "python",
   "name": "python3"
  },
  "language_info": {
   "codemirror_mode": {
    "name": "ipython",
    "version": 3
   },
   "file_extension": ".py",
   "mimetype": "text/x-python",
   "name": "python",
   "nbconvert_exporter": "python",
   "pygments_lexer": "ipython3",
   "version": "3.7.6"
  }
 },
 "nbformat": 4,
 "nbformat_minor": 4
}
